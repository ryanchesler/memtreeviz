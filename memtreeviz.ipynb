{
 "cells": [
  {
   "cell_type": "code",
   "execution_count": 2,
   "metadata": {},
   "outputs": [],
   "source": [
    "# import plotly.plotly as py\n",
    "# import plotly.graph_objs as go\n",
    "# from plotly.offline import init_notebook_mode, plot, iplot\n",
    "# import squarify\n",
    "# init_notebook_mode(connected=True)\n",
    "\n",
    "# # Choose colors from http://colorbrewer2.org/ under \"Export\"\n",
    "# color_brewer = ['rgb(166,206,227)','rgb(31,120,180)','rgb(178,223,138)',\n",
    "#                 'rgb(51,160,44)','rgb(251,154,153)','rgb(227,26,28)']\n",
    "# shapes = []\n",
    "# annotations = []\n",
    "# counter = 0\n",
    "\n",
    "# for r in padded_rects:\n",
    "#     shapes.append( \n",
    "#         dict(\n",
    "#             type = 'rect', \n",
    "#             x0 = r['x'], \n",
    "#             y0 = r['y'], \n",
    "#             x1 = r['x']+r['dx'], \n",
    "#             y1 = r['y']+r['dy'],\n",
    "#             line = dict( width = 2 ),\n",
    "#             fillcolor = color_brewer[counter]\n",
    "#         ) \n",
    "#     )\n",
    "#     annotations.append(\n",
    "#         dict(\n",
    "#             x = r['x']+(r['dx']/2),\n",
    "#             y = r['y']+(r['dy']/2),\n",
    "#             text = mem[counter][0],\n",
    "#             showarrow = False\n",
    "#         )\n",
    "#     )\n",
    "#     counter = counter + 1\n",
    "#     if counter >= len(color_brewer):\n",
    "#         counter = 0\n",
    "\n",
    "# # For hover text\n",
    "# trace0 = go.Scatter(\n",
    "#     x = [ r['x']+(r['dx']/2) for r in rects ], \n",
    "#     y = [ r['y']+(r['dy']/2) for r in rects ],\n",
    "#     text = [ str(v[0]) + \": \" + str(v[2]) for v in mem], \n",
    "#     mode = 'text',\n",
    "#     hoverinfo = 'text'\n",
    "# )\n",
    "        \n",
    "# layout = dict(\n",
    "#     height=700, \n",
    "#     width=700,\n",
    "#     xaxis=dict(showgrid=False,zeroline=False, ticks='',\n",
    "#         showticklabels=False),\n",
    "#     yaxis=dict(showgrid=False,zeroline=False, ticks='',\n",
    "#         showticklabels=False),\n",
    "#     shapes=shapes,\n",
    "#     annotations=annotations,\n",
    "#     hovermode='closest'\n",
    "# )\n",
    "# # With hovertext\n",
    "# figure = dict(data=[trace0], layout=layout)\n",
    "\n",
    "# # Without hovertext\n",
    "# # figure = dict(data=[Scatter()], layout=layout)\n",
    "\n",
    "# iplot(figure)"
   ]
  },
  {
   "cell_type": "code",
   "execution_count": 15,
   "metadata": {},
   "outputs": [
    {
     "name": "stdout",
     "output_type": "stream",
     "text": [
      "[('memory2', 548000112, '522.6MiB'), ('memory4', 460320112, '439.0MiB'), ('memory3', 128000112, '122.1MiB'), ('available memory', 15997516736, '14.9GiB'), ('memory', 46032112, '43.9MiB')]\n",
      "[548000112, 460320112, 128000112, 15997516736, 46032112]\n"
     ]
    },
    {
     "data": {
      "text/html": [
       "<script>requirejs.config({paths: { 'plotly': ['https://cdn.plot.ly/plotly-latest.min']},});if(!window.Plotly) {{require(['plotly'],function(plotly) {window.Plotly=plotly;});}}</script>"
      ],
      "text/vnd.plotly.v1+html": [
       "<script>requirejs.config({paths: { 'plotly': ['https://cdn.plot.ly/plotly-latest.min']},});if(!window.Plotly) {{require(['plotly'],function(plotly) {window.Plotly=plotly;});}}</script>"
      ]
     },
     "metadata": {},
     "output_type": "display_data"
    },
    {
     "data": {
      "application/vnd.plotly.v1+json": {
       "data": [
        {
         "hoverinfo": "text",
         "mode": "text",
         "text": [
          "memory2: 522.6MiB",
          "memory4: 439.0MiB",
          "memory3: 122.1MiB",
          "available memory: 14.9GiB",
          "memory: 43.9MiB"
         ],
         "type": "scatter",
         "x": [
          23.149892082437873,
          23.149892082437873,
          23.149892082437873,
          373.1498920824379,
          373.14989208243327
         ],
         "y": [
          168.79046614193481,
          479.3649293626652,
          660.5744632207304,
          348.9957808367312,
          698.9957808367312
         ]
        }
       ],
       "layout": {
        "annotations": [
         {
          "showarrow": false,
          "text": "memory2",
          "x": 23.149892082437873,
          "y": 168.79046614193481
         },
         {
          "showarrow": false,
          "text": "memory4",
          "x": 23.149892082437873,
          "y": 479.3649293626652
         },
         {
          "showarrow": false,
          "text": "memory3",
          "x": 23.149892082437873,
          "y": 660.5744632207304
         },
         {
          "showarrow": false,
          "text": "available memory",
          "x": 373.1498920824379,
          "y": 348.9957808367312
         },
         {
          "showarrow": false,
          "text": "memory",
          "x": 373.14989208243327,
          "y": 698.9957808367312
         }
        ],
        "height": 700,
        "hovermode": "closest",
        "shapes": [
         {
          "fillcolor": "rgb(166,206,227)",
          "line": {
           "width": 2
          },
          "type": "rect",
          "x0": 1,
          "x1": 45.299784164875746,
          "y0": 1,
          "y1": 336.58093228386963
         },
         {
          "fillcolor": "rgb(31,120,180)",
          "line": {
           "width": 2
          },
          "type": "rect",
          "x0": 1,
          "x1": 45.299784164875746,
          "y0": 338.58093228386963,
          "y1": 620.1489264414608
         },
         {
          "fillcolor": "rgb(178,223,138)",
          "line": {
           "width": 2
          },
          "type": "rect",
          "x0": 1,
          "x1": 45.299784164875746,
          "y0": 622.1489264414608,
          "y1": 699
         },
         {
          "fillcolor": "rgb(51,160,44)",
          "line": {
           "width": 2
          },
          "type": "rect",
          "x0": 47.299784164875746,
          "x1": 699,
          "y0": 1,
          "y1": 696.9915616734625
         },
         {
          "fillcolor": "rgb(251,154,153)",
          "line": {
           "width": 2
          },
          "type": "rect",
          "x0": 47.299784164875746,
          "x1": 698.9999999999908,
          "y0": 698.9915616734625,
          "y1": 699
         }
        ],
        "width": 700,
        "xaxis": {
         "showgrid": false,
         "showticklabels": false,
         "ticks": "",
         "zeroline": false
        },
        "yaxis": {
         "showgrid": false,
         "showticklabels": false,
         "ticks": "",
         "zeroline": false
        }
       }
      },
      "text/html": [
       "<div id=\"12449573-b566-4954-ae23-954bdfa6ec52\" style=\"height: 700px; width: 700px;\" class=\"plotly-graph-div\"></div><script type=\"text/javascript\">require([\"plotly\"], function(Plotly) { window.PLOTLYENV=window.PLOTLYENV || {};window.PLOTLYENV.BASE_URL=\"https://plot.ly\";Plotly.newPlot(\"12449573-b566-4954-ae23-954bdfa6ec52\", [{\"type\": \"scatter\", \"x\": [23.149892082437873, 23.149892082437873, 23.149892082437873, 373.1498920824379, 373.14989208243327], \"y\": [168.79046614193481, 479.3649293626652, 660.5744632207304, 348.9957808367312, 698.9957808367312], \"text\": [\"memory2: 522.6MiB\", \"memory4: 439.0MiB\", \"memory3: 122.1MiB\", \"available memory: 14.9GiB\", \"memory: 43.9MiB\"], \"mode\": \"text\", \"hoverinfo\": \"text\"}], {\"height\": 700, \"width\": 700, \"xaxis\": {\"showgrid\": false, \"zeroline\": false, \"ticks\": \"\", \"showticklabels\": false}, \"yaxis\": {\"showgrid\": false, \"zeroline\": false, \"ticks\": \"\", \"showticklabels\": false}, \"shapes\": [{\"type\": \"rect\", \"x0\": 1.0, \"y0\": 1.0, \"x1\": 45.299784164875746, \"y1\": 336.58093228386963, \"line\": {\"width\": 2}, \"fillcolor\": \"rgb(166,206,227)\"}, {\"type\": \"rect\", \"x0\": 1.0, \"y0\": 338.58093228386963, \"x1\": 45.299784164875746, \"y1\": 620.1489264414608, \"line\": {\"width\": 2}, \"fillcolor\": \"rgb(31,120,180)\"}, {\"type\": \"rect\", \"x0\": 1.0, \"y0\": 622.1489264414608, \"x1\": 45.299784164875746, \"y1\": 699.0, \"line\": {\"width\": 2}, \"fillcolor\": \"rgb(178,223,138)\"}, {\"type\": \"rect\", \"x0\": 47.299784164875746, \"y0\": 1.0, \"x1\": 699.0, \"y1\": 696.9915616734625, \"line\": {\"width\": 2}, \"fillcolor\": \"rgb(51,160,44)\"}, {\"type\": \"rect\", \"x0\": 47.299784164875746, \"y0\": 698.9915616734625, \"x1\": 698.9999999999908, \"y1\": 699.0, \"line\": {\"width\": 2}, \"fillcolor\": \"rgb(251,154,153)\"}], \"annotations\": [{\"x\": 23.149892082437873, \"y\": 168.79046614193481, \"text\": \"memory2\", \"showarrow\": false}, {\"x\": 23.149892082437873, \"y\": 479.3649293626652, \"text\": \"memory4\", \"showarrow\": false}, {\"x\": 23.149892082437873, \"y\": 660.5744632207304, \"text\": \"memory3\", \"showarrow\": false}, {\"x\": 373.1498920824379, \"y\": 348.9957808367312, \"text\": \"available memory\", \"showarrow\": false}, {\"x\": 373.14989208243327, \"y\": 698.9957808367312, \"text\": \"memory\", \"showarrow\": false}], \"hovermode\": \"closest\"}, {\"showLink\": true, \"linkText\": \"Export to plot.ly\"})});</script>"
      ],
      "text/vnd.plotly.v1+html": [
       "<div id=\"12449573-b566-4954-ae23-954bdfa6ec52\" style=\"height: 700px; width: 700px;\" class=\"plotly-graph-div\"></div><script type=\"text/javascript\">require([\"plotly\"], function(Plotly) { window.PLOTLYENV=window.PLOTLYENV || {};window.PLOTLYENV.BASE_URL=\"https://plot.ly\";Plotly.newPlot(\"12449573-b566-4954-ae23-954bdfa6ec52\", [{\"type\": \"scatter\", \"x\": [23.149892082437873, 23.149892082437873, 23.149892082437873, 373.1498920824379, 373.14989208243327], \"y\": [168.79046614193481, 479.3649293626652, 660.5744632207304, 348.9957808367312, 698.9957808367312], \"text\": [\"memory2: 522.6MiB\", \"memory4: 439.0MiB\", \"memory3: 122.1MiB\", \"available memory: 14.9GiB\", \"memory: 43.9MiB\"], \"mode\": \"text\", \"hoverinfo\": \"text\"}], {\"height\": 700, \"width\": 700, \"xaxis\": {\"showgrid\": false, \"zeroline\": false, \"ticks\": \"\", \"showticklabels\": false}, \"yaxis\": {\"showgrid\": false, \"zeroline\": false, \"ticks\": \"\", \"showticklabels\": false}, \"shapes\": [{\"type\": \"rect\", \"x0\": 1.0, \"y0\": 1.0, \"x1\": 45.299784164875746, \"y1\": 336.58093228386963, \"line\": {\"width\": 2}, \"fillcolor\": \"rgb(166,206,227)\"}, {\"type\": \"rect\", \"x0\": 1.0, \"y0\": 338.58093228386963, \"x1\": 45.299784164875746, \"y1\": 620.1489264414608, \"line\": {\"width\": 2}, \"fillcolor\": \"rgb(31,120,180)\"}, {\"type\": \"rect\", \"x0\": 1.0, \"y0\": 622.1489264414608, \"x1\": 45.299784164875746, \"y1\": 699.0, \"line\": {\"width\": 2}, \"fillcolor\": \"rgb(178,223,138)\"}, {\"type\": \"rect\", \"x0\": 47.299784164875746, \"y0\": 1.0, \"x1\": 699.0, \"y1\": 696.9915616734625, \"line\": {\"width\": 2}, \"fillcolor\": \"rgb(51,160,44)\"}, {\"type\": \"rect\", \"x0\": 47.299784164875746, \"y0\": 698.9915616734625, \"x1\": 698.9999999999908, \"y1\": 699.0, \"line\": {\"width\": 2}, \"fillcolor\": \"rgb(251,154,153)\"}], \"annotations\": [{\"x\": 23.149892082437873, \"y\": 168.79046614193481, \"text\": \"memory2\", \"showarrow\": false}, {\"x\": 23.149892082437873, \"y\": 479.3649293626652, \"text\": \"memory4\", \"showarrow\": false}, {\"x\": 23.149892082437873, \"y\": 660.5744632207304, \"text\": \"memory3\", \"showarrow\": false}, {\"x\": 373.1498920824379, \"y\": 348.9957808367312, \"text\": \"available memory\", \"showarrow\": false}, {\"x\": 373.14989208243327, \"y\": 698.9957808367312, \"text\": \"memory\", \"showarrow\": false}], \"hovermode\": \"closest\"}, {\"showLink\": true, \"linkText\": \"Export to plot.ly\"})});</script>"
      ]
     },
     "metadata": {},
     "output_type": "display_data"
    }
   ],
   "source": [
    "import pandas as pd\n",
    "import numpy as np\n",
    "import os\n",
    "import sys\n",
    "from psutil import virtual_memory\n",
    "import squarify\n",
    "def sizeof_fmt(num, suffix='B'):\n",
    "    for unit in ['','Ki','Mi','Gi','Ti','Pi','Ei','Zi']:\n",
    "        if abs(num) < 1024.0:\n",
    "            return \"%3.1f%s%s\" % (num, unit, suffix)\n",
    "        num /= 1024.0\n",
    "    return \"%.1f%s%s\" % (num, 'Yi', suffix)\n",
    "\n",
    "def get_mem_size(raw = True, scope = locals(), threshold = 1024*4):\n",
    "    virtual_mem = virtual_memory().total\n",
    "    variables = scope.items()\n",
    "    mem = sorted(((name, sys.getsizeof(value)) for name,value in variables),\n",
    "                    key= lambda x: -x[1])\n",
    "    mem = [(x[0], x[1], sizeof_fmt(x[1])) for x in mem if x[1] > threshold ]\n",
    "    for x in mem:\n",
    "        virtual_mem -= x[1]\n",
    "    for i, x in enumerate(mem):\n",
    "        if virtual_mem > x[1]:\n",
    "            mem.insert(i-1, (\"available memory\", virtual_mem, sizeof_fmt(virtual_mem)))\n",
    "            break\n",
    "        else:\n",
    "            continue\n",
    "    return mem\n",
    "mem = get_mem_size(raw = False)\n",
    "mem_values = [x[1] for x in mem] \n",
    "# these values define the coordinate system for the returned rectangles\n",
    "# the values will range from x to x + width and y to y + height\n",
    "x = 0.\n",
    "y = 0.\n",
    "width = 700.\n",
    "height = 700\n",
    "values = squarify.normalize_sizes(mem_values, width, height)\n",
    "\n",
    "# returns a list of rectangles\n",
    "rects = squarify.squarify(values, x, y, width, height)\n",
    "\n",
    "# padded rectangles will probably visualize better for certain cases\n",
    "padded_rects = squarify.padded_squarify(values, x, y, width, height)\n",
    "\n",
    "import plotly.plotly as py\n",
    "import plotly.graph_objs as go\n",
    "from plotly.offline import init_notebook_mode, plot, iplot\n",
    "import squarify\n",
    "init_notebook_mode(connected=True)\n",
    "\n",
    "# Choose colors from http://colorbrewer2.org/ under \"Export\"\n",
    "color_brewer = ['rgb(166,206,227)','rgb(31,120,180)','rgb(178,223,138)',\n",
    "                'rgb(51,160,44)','rgb(251,154,153)','rgb(227,26,28)']\n",
    "shapes = []\n",
    "annotations = []\n",
    "counter = 0\n",
    "\n",
    "for r in padded_rects:\n",
    "    shapes.append( \n",
    "        dict(\n",
    "            type = 'rect', \n",
    "            x0 = r['x'], \n",
    "            y0 = r['y'], \n",
    "            x1 = r['x']+r['dx'], \n",
    "            y1 = r['y']+r['dy'],\n",
    "            line = dict( width = 2 ),\n",
    "            fillcolor = color_brewer[counter]\n",
    "        ) \n",
    "    )\n",
    "    annotations.append(\n",
    "        dict(\n",
    "            x = r['x']+(r['dx']/2),\n",
    "            y = r['y']+(r['dy']/2),\n",
    "            text = mem[counter][0],\n",
    "            showarrow = False\n",
    "        )\n",
    "    )\n",
    "    counter = counter + 1\n",
    "    if counter >= len(color_brewer):\n",
    "        counter = 0\n",
    "\n",
    "# For hover text\n",
    "trace0 = go.Scatter(\n",
    "    x = [ r['x']+(r['dx']/2) for r in rects ], \n",
    "    y = [ r['y']+(r['dy']/2) for r in rects ],\n",
    "    text = [ str(v[0]) + \": \" + str(v[2]) for v in mem], \n",
    "    mode = 'text',\n",
    "    hoverinfo = 'text'\n",
    ")\n",
    "        \n",
    "layout = dict(\n",
    "    height=700, \n",
    "    width=700,\n",
    "    xaxis=dict(showgrid=False,zeroline=False, ticks='',\n",
    "        showticklabels=False),\n",
    "    yaxis=dict(showgrid=False,zeroline=False, ticks='',\n",
    "        showticklabels=False),\n",
    "    shapes=shapes,\n",
    "    annotations=annotations,\n",
    "    hovermode='closest'\n",
    ")\n",
    "# With hovertext\n",
    "figure = dict(data=[trace0], layout=layout)\n",
    "\n",
    "# Without hovertext\n",
    "# figure = dict(data=[Scatter()], layout=layout)\n",
    "\n",
    "iplot(figure)"
   ]
  },
  {
   "cell_type": "code",
   "execution_count": null,
   "metadata": {},
   "outputs": [],
   "source": []
  }
 ],
 "metadata": {
  "kernelspec": {
   "display_name": "Python 3",
   "language": "python",
   "name": "python3"
  }
 },
 "nbformat": 4,
 "nbformat_minor": 2
}
